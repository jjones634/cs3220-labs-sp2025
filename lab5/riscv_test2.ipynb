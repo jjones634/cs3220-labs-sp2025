{
 "cells": [
  {
   "cell_type": "markdown",
   "id": "50503751",
   "metadata": {},
   "source": [
    "## Load the FPGA Design"
   ]
  },
  {
   "cell_type": "code",
   "execution_count": 11,
   "id": "94254bfc",
   "metadata": {},
   "outputs": [],
   "source": [
    "from pynq import Overlay\n",
    "\n",
    "# change to the path where you save the bistream\n",
    "overlay = Overlay('./riscv.bit')\n",
    "\n",
    "comm_ip = overlay.comm_0"
   ]
  },
  {
   "cell_type": "markdown",
   "id": "df176301",
   "metadata": {},
   "source": [
    "## Dispatch Instructions"
   ]
  },
  {
   "cell_type": "code",
   "execution_count": null,
   "id": "5b1e0bfb",
   "metadata": {},
   "outputs": [],
   "source": [
    "# Refer to this manual to learn how to read / write the ports: https://pynq.readthedocs.io/en/v2.6.1/overlay_design_methodology/overlay_tutorial.html#Developing-a-Single-IP "
   ]
  }
 ],
 "metadata": {
  "kernelspec": {
   "display_name": "Python 3.6.9 64-bit",
   "language": "python",
   "name": "python3"
  },
  "language_info": {
   "codemirror_mode": {
    "name": "ipython",
    "version": 3
   },
   "file_extension": ".py",
   "mimetype": "text/x-python",
   "name": "python",
   "nbconvert_exporter": "python",
   "pygments_lexer": "ipython3",
   "version": "3.6.9"
  },
  "vscode": {
   "interpreter": {
    "hash": "31f2aee4e71d21fbe5cf8b01ff0e069b9275f58929596ceb00d14d90e3e16cd6"
   }
  }
 },
 "nbformat": 4,
 "nbformat_minor": 5
}
