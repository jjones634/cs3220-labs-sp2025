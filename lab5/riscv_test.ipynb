{
 "cells": [
  {
   "cell_type": "code",
   "execution_count": 11,
   "id": "94254bfc",
   "metadata": {},
   "outputs": [],
   "source": [
    "from pynq import Overlay\n",
    "\n",
    "# change to the path where you save the bistream\n",
    "overlay = Overlay('./riscv.bit')"
   ]
  },
  {
   "cell_type": "code",
   "execution_count": null,
   "id": "9ab15459",
   "metadata": {},
   "outputs": [],
   "source": [
    "help(overlay)"
   ]
  },
  {
   "cell_type": "code",
   "execution_count": null,
   "id": "97b51f7f",
   "metadata": {},
   "outputs": [],
   "source": [
    "overlay.ip_dict"
   ]
  },
  {
   "cell_type": "code",
   "execution_count": null,
   "id": "3c65ab18",
   "metadata": {
    "scrolled": true
   },
   "outputs": [],
   "source": [
    "\n",
    "comm_ip = overlay.comm_0\n",
    "help(comm_ip)"
   ]
  },
  {
   "cell_type": "code",
   "execution_count": null,
   "id": "9d8d7f65",
   "metadata": {},
   "outputs": [],
   "source": [
    "comm_ip.read(0x30)"
   ]
  },
  {
   "cell_type": "code",
   "execution_count": null,
   "id": "874f962a",
   "metadata": {},
   "outputs": [],
   "source": [
    "comm_ip.read(0x20)"
   ]
  }
 ],
 "metadata": {
  "kernelspec": {
   "display_name": "Python 3.6.9 64-bit",
   "language": "python",
   "name": "python3"
  },
  "language_info": {
   "codemirror_mode": {
    "name": "ipython",
    "version": 3
   },
   "file_extension": ".py",
   "mimetype": "text/x-python",
   "name": "python",
   "nbconvert_exporter": "python",
   "pygments_lexer": "ipython3",
   "version": "3.6.9"
  },
  "vscode": {
   "interpreter": {
    "hash": "31f2aee4e71d21fbe5cf8b01ff0e069b9275f58929596ceb00d14d90e3e16cd6"
   }
  }
 },
 "nbformat": 4,
 "nbformat_minor": 5
}
